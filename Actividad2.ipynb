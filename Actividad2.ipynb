{
 "cells": [
  {
   "cell_type": "markdown",
   "id": "9c65c86d",
   "metadata": {},
   "source": [
    "## Ingresa un entero\n"
   ]
  },
  {
   "cell_type": "code",
   "execution_count": 2,
   "id": "33920297",
   "metadata": {},
   "outputs": [
    {
     "name": "stdout",
     "output_type": "stream",
     "text": [
      "ingresa un numero:150\n",
      "150\n",
      "<class 'int'>\n"
     ]
    }
   ],
   "source": [
    "my_input = eval (input (\"ingresa un numero:\"))\n",
    "print (my_input)\n",
    "print (type(my_input))"
   ]
  },
  {
   "cell_type": "markdown",
   "id": "77780453",
   "metadata": {},
   "source": [
    "## ingresa un flotante"
   ]
  },
  {
   "cell_type": "code",
   "execution_count": 3,
   "id": "102c8856",
   "metadata": {},
   "outputs": [
    {
     "name": "stdout",
     "output_type": "stream",
     "text": [
      "ingresa un numero flotante:5.3\n",
      "5.3\n",
      "<class 'float'>\n"
     ]
    }
   ],
   "source": [
    "my_float = eval (input(\"ingresa un numero flotante:\"))\n",
    "print (my_float)\n",
    "print (type(my_float))"
   ]
  },
  {
   "cell_type": "markdown",
   "id": "0ac25486",
   "metadata": {},
   "source": [
    "## Ingresa una cadena"
   ]
  },
  {
   "cell_type": "code",
   "execution_count": 4,
   "id": "86cbe314",
   "metadata": {},
   "outputs": [
    {
     "name": "stdout",
     "output_type": "stream",
     "text": [
      "Ingresa un texto:Aprendiendo Python\n",
      "Aprendiendo Python\n",
      "<class 'str'>\n"
     ]
    }
   ],
   "source": [
    "my_string = input (\"Ingresa un texto:\")\n",
    "print (my_string)\n",
    "print (type(my_string))"
   ]
  },
  {
   "cell_type": "code",
   "execution_count": null,
   "id": "ab6ed5af",
   "metadata": {},
   "outputs": [],
   "source": []
  }
 ],
 "metadata": {
  "kernelspec": {
   "display_name": "Python 3 (ipykernel)",
   "language": "python",
   "name": "python3"
  },
  "language_info": {
   "codemirror_mode": {
    "name": "ipython",
    "version": 3
   },
   "file_extension": ".py",
   "mimetype": "text/x-python",
   "name": "python",
   "nbconvert_exporter": "python",
   "pygments_lexer": "ipython3",
   "version": "3.11.7"
  }
 },
 "nbformat": 4,
 "nbformat_minor": 5
}
